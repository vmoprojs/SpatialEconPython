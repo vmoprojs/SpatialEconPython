{
 "cells": [
  {
   "cell_type": "markdown",
   "metadata": {},
   "source": [
    "# Fundamentos\n",
    "\n",
    "**Desafío de representar conceptos geográficos**\n",
    "   - Las representaciones conceptuales de fenómenos geográficos son complejas.\n",
    "   - Por ejemplo, la densidad poblacional suele representarse como un promedio por unidad de área, aunque en realidad las personas son entidades discretas que se mueven en el espacio-tiempo.\n",
    "\n",
    "**Tres modelos conceptuales clásicos**\n",
    "   - **Objetos (Objects)**: Entidades discretas que ocupan una posición específica en el espacio y el tiempo (ej. una persona, una parcela).\n",
    "   - **Campos (Fields)**: Superficies continuas que pueden ser medidas en cualquier ubicación del espacio-tiempo (ej. temperatura, altitud, densidad como superficie).\n",
    "   - **Redes (Networks)**: Conjuntos de conexiones entre objetos o posiciones dentro de un campo (ej. rutas de buses, calles, redes de distribución).\n",
    "\n",
    "**Importancia del modelo elegido**\n",
    "   - El modelo conceptual determina cómo se definen las relaciones espaciales:\n",
    "     - En objetos: la proximidad espacial define relaciones.\n",
    "     - En redes: importa la conectividad más que la distancia.\n",
    "     - En campos: se debe considerar la interpolación entre observaciones.\n",
    "\n",
    "**Relación entre modelo y realidad**\n",
    "   - Lo que medimos puede no reflejar exactamente cómo funciona el proceso.\n",
    "   - Los modelos ayudan a responder preguntas específicas, aunque simplifican la realidad."
   ]
  },
  {
   "cell_type": "code",
   "execution_count": null,
   "metadata": {},
   "outputs": [],
   "source": []
  }
 ],
 "metadata": {
  "kernelspec": {
   "display_name": "Python [conda env:base] *",
   "language": "python",
   "name": "conda-base-py"
  },
  "language_info": {
   "codemirror_mode": {
    "name": "ipython",
    "version": 3
   },
   "file_extension": ".py",
   "mimetype": "text/x-python",
   "name": "python",
   "nbconvert_exporter": "python",
   "pygments_lexer": "ipython3",
   "version": "3.9.19"
  }
 },
 "nbformat": 4,
 "nbformat_minor": 4
}
